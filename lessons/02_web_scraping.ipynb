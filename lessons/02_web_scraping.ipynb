{
 "cells": [
  {
   "cell_type": "markdown",
   "metadata": {},
   "source": [
    "# Web Scraping with Beautiful Soup\n",
    "\n",
    "* * * \n",
    "\n",
    "### Icons used in this notebook\n",
    "🔔 **Question**: A quick question to help you understand what's going on.<br>\n",
    "🥊 **Challenge**: Interactive exercise. We'll work through these in the workshop!<br>\n",
    "⚠️ **Warning**: Heads-up about tricky stuff or common mistakes.<br>\n",
    "💡 **Tip**: How to do something a bit more efficiently or effectively.<br>\n",
    "🎬 **Demo**: Showing off something more advanced – so you know what Python can be used for!<br>\n",
    "\n",
    "### Learning Objectives\n",
    "1. [Reflection: To Scape Or Not To Scrape](#when)\n",
    "2. [Extracting and Parsing HTML](#extract)\n",
    "3. [Scraping the Illinois General Assembly](#scrape)"
   ]
  },
  {
   "cell_type": "markdown",
   "metadata": {},
   "source": [
    "<a id='when'></a>\n",
    "\n",
    "# To Scrape Or Not To Scrape\n",
    "\n",
    "When we'd like to access data from the web, we first have to make sure if the website we are interested in offers a Web API. Platforms like Twitter, Reddit, and the New York Times offer APIs. **Check out D-Lab's [Python Web APIs](https://github.com/dlab-berkeley/Python-Web-APIs) workshop if you want to learn how to use APIs.**\n",
    "\n",
    "However, there are often cases when a Web API does not exist. In these cases, we may have to resort to web scraping, where we extract the underlying HTML from a web page, and directly obtain the information we want. There are several packages in Python we can use to accomplish these tasks. We'll focus two packages: Requests and Beautiful Soup.\n",
    "\n",
    "Our case study will be scraping information on the [state senators of Illinois](http://www.ilga.gov/senate), as well as the [list of bills](http://www.ilga.gov/senate/SenatorBills.asp?MemberID=1911&GA=98&Primary=True) each senator has sponsored. Before we get started, peruse these websites to take a look at their structure."
   ]
  },
  {
   "cell_type": "markdown",
   "metadata": {},
   "source": [
    "## Installation\n",
    "\n",
    "We will use two main packages: [Requests](http://docs.python-requests.org/en/latest/user/quickstart/) and [Beautiful Soup](http://www.crummy.com/software/BeautifulSoup/bs4/doc/). Go ahead and install these packages, if you haven't already:"
   ]
  },
  {
   "cell_type": "markdown",
   "metadata": {},
   "source": [
    "Se instalan las librerías"
   ]
  },
  {
   "cell_type": "code",
   "execution_count": null,
   "metadata": {},
   "outputs": [],
   "source": [
    "%pip install requests"
   ]
  },
  {
   "cell_type": "code",
   "execution_count": null,
   "metadata": {},
   "outputs": [],
   "source": [
    "%pip install beautifulsoup4"
   ]
  },
  {
   "cell_type": "markdown",
   "metadata": {},
   "source": [
    "We'll also install the `lxml` package, which helps support some of the parsing that Beautiful Soup performs:"
   ]
  },
  {
   "cell_type": "code",
   "execution_count": null,
   "metadata": {},
   "outputs": [],
   "source": [
    "%pip install lxml"
   ]
  },
  {
   "cell_type": "markdown",
   "metadata": {},
   "source": [
    "Se importan las librerias"
   ]
  },
  {
   "cell_type": "code",
   "execution_count": 2,
   "metadata": {
    "tags": []
   },
   "outputs": [],
   "source": [
    "# Import required libraries\n",
    "from bs4 import BeautifulSoup\n",
    "from datetime import datetime\n",
    "import requests\n",
    "import time"
   ]
  },
  {
   "cell_type": "markdown",
   "metadata": {},
   "source": [
    "<a id='extract'></a>\n",
    "\n",
    "# Extracting and Parsing HTML \n",
    "\n",
    "In order to succesfully scrape and analyse HTML, we'll be going through the following 4 steps:\n",
    "1. Make a GET request\n",
    "2. Parse the page with Beautiful Soup\n",
    "3. Search for HTML elements\n",
    "4. Get attributes and text of these elements"
   ]
  },
  {
   "cell_type": "markdown",
   "metadata": {},
   "source": [
    "## Step 1: Make a GET Request to Obtain a Page's HTML\n",
    "\n",
    "We can use the Requests library to:\n",
    "\n",
    "1. Make a GET request to the page, and\n",
    "2. Read in the webpage's HTML code.\n",
    "\n",
    "The process of making a request and obtaining a result resembles that of the Web API workflow. Now, however, we're making a request directly to the website, and we're going to have to parse the HTML ourselves. This is in contrast to being provided data organized into a more straightforward `JSON` or `XML` output."
   ]
  },
  {
   "cell_type": "code",
   "execution_count": 3,
   "metadata": {
    "tags": []
   },
   "outputs": [
    {
     "name": "stdout",
     "output_type": "stream",
     "text": [
      "<!DOCTYPE html>\n",
      "<html lang=\"en\">\n",
      "<head id=\"Head1\">\n",
      "    <meta name=\"viewport\" content=\"width=device-width, initial-scale=1.0\" />\n",
      "    <meta http-equiv=\"content-type\" content=\"text/html;charset=utf-8\" />\n",
      "    <meta http-equiv=\"X-UA-Compatible\" content=\"IE=Edge\" />\n",
      "    <meta charset=\"utf-8\" />\n",
      "    <meta charset=\"UTF-8\">\n",
      "    <!-- Meta Description -->\n",
      "    <meta name=\"description\" content=\"Welcome to the official government website of the Illinois General Assembly\">\n",
      "    <meta name=\"contactName\" content=\"Legislative Information System\">\n",
      "    <meta name=\"contactOrganization\" content=\"LIS Staff Services\">\n",
      "    <meta name=\"contactStreetAddress1\" content=\"705 Stratton Office Building\">\n",
      "    <meta name=\"contactCity\" content=\"Springfield\">\n",
      "    <meta name=\"contactZipcode\" content=\"62706\">\n",
      "    <meta name=\"contactNetworkAddress\" content=\"webmaster@ilga.gov\">\n",
      "    <meta name=\"contactPhoneNumber\" content=\"217-782-3944\">\n",
      "    <meta name=\"contactFaxNumber\" content=\"217-524-6059\">\n",
      "    <meta name\n"
     ]
    }
   ],
   "source": [
    "# Hacer peticion al URL para obtener el contenido de la pagina\n",
    "req = requests.get('http://www.ilga.gov/senate/default.asp')\n",
    "# Se lee el contenido de la respuesta del servidor\n",
    "src = req.text\n",
    "# Se ve la salida de las 1000 primeras lineas\n",
    "print(src[:1000])"
   ]
  },
  {
   "cell_type": "markdown",
   "metadata": {},
   "source": [
    "## Step 2: Parse the Page with Beautiful Soup\n",
    "\n",
    "Now, we use the `BeautifulSoup` function to parse the reponse into an HTML tree. This returns an object (called a **soup object**) which contains all of the HTML in the original document.\n",
    "\n",
    "If you run into an error about a parser library, make sure you've installed the `lxml` package to provide Beautiful Soup with the necessary parsing tools."
   ]
  },
  {
   "cell_type": "code",
   "execution_count": 4,
   "metadata": {},
   "outputs": [
    {
     "name": "stdout",
     "output_type": "stream",
     "text": [
      "<!DOCTYPE html>\n",
      "<html lang=\"en\">\n",
      " <head id=\"Head1\">\n",
      "  <meta content=\"width=device-width, initial-scale=1.0\" name=\"viewport\"/>\n",
      "  <meta content=\"text/html;charset=utf-8\" http-equiv=\"content-type\"/>\n",
      "  <meta content=\"IE=Edge\" http-equiv=\"X-UA-Compatible\"/>\n",
      "  <meta charset=\"utf-8\"/>\n",
      "  <meta charset=\"utf-8\"/>\n",
      "  <!-- Meta Description -->\n",
      "  <meta content=\"Welcome to the official government website of the Illinois General Assembly\" name=\"description\"/>\n",
      "  <meta content=\"Legislative Information System\" name=\"contactName\"/>\n",
      "  <meta content=\"LIS Staff Services\" name=\"contactOrganization\"/>\n",
      "  <meta content=\"705 Stratton Office Building\" name=\"contactStreetAddress1\"/>\n",
      "  <meta content=\"Springfield\" name=\"contactCity\"/>\n",
      "  <meta content=\"62706\" name=\"contactZipcode\"/>\n",
      "  <meta content=\"webmaster@ilga.gov\" name=\"contactNetworkAddress\"/>\n",
      "  <meta content=\"217-782-3944\" name=\"contactPhoneNumber\"/>\n",
      "  <meta content=\"217-524-6059\" name=\"contactFaxNumber\"/>\n",
      "  <meta content=\"State Of Illinois\" name=\"originatorJur\n"
     ]
    }
   ],
   "source": [
    "# Parse the response into an HTML tree\n",
    "# BeatifulSoup es una libreria de Phyton que permite analizar o navegar documentos HTML o XML.\n",
    "# src debe ser una cadena de texto que contiene código HTML y 'lxml' es el analizador que BeautifulSoup usará para leer el HTML.\n",
    "soup = BeautifulSoup(src, 'lxml')\n",
    "# Take a look\n",
    "# Muestra el contenido HTML como un árbol estructurado que puedes recorrer y manipular fácilmente y muestra los primeros 1000 caracteres si el HTML es un largo.\n",
    "print(soup.prettify()[:1000])"
   ]
  },
  {
   "cell_type": "markdown",
   "metadata": {},
   "source": [
    "The output looks pretty similar to the above, but now it's organized in a `soup` object which allows us to more easily traverse the page."
   ]
  },
  {
   "cell_type": "markdown",
   "metadata": {},
   "source": [
    "## Step 3: Search for HTML Elements\n",
    "\n",
    "Beautiful Soup has a number of functions to find useful components on a page. Beautiful Soup lets you find elements by their:\n",
    "\n",
    "1. HTML tags\n",
    "2. HTML Attributes\n",
    "3. CSS Selectors\n",
    "\n",
    "Let's search first for **HTML tags**. \n",
    "\n",
    "The function `find_all` searches the `soup` tree to find all the elements with an a particular HTML tag, and returns all of those elements.\n",
    "\n",
    "What does the example below do?"
   ]
  },
  {
   "cell_type": "code",
   "execution_count": 5,
   "metadata": {},
   "outputs": [
    {
     "name": "stdout",
     "output_type": "stream",
     "text": [
      "[<a b-0yw6sxot5c=\"\" class=\"dropdown-item\" data-lang=\"en\" href=\"#\">\n",
      "<span b-0yw6sxot5c=\"\" class=\"flag-icon flag-icon-us\"></span> English\n",
      "                            </a>, <a b-0yw6sxot5c=\"\" class=\"dropdown-item\" data-lang=\"af\" href=\"#\">\n",
      "<span b-0yw6sxot5c=\"\" class=\"flag-icon flag-icon-za\"></span> Afrikaans\n",
      "                            </a>, <a b-0yw6sxot5c=\"\" class=\"dropdown-item\" data-lang=\"sq\" href=\"#\">\n",
      "<span b-0yw6sxot5c=\"\" class=\"flag-icon flag-icon-al\"></span> Albanian\n",
      "                            </a>, <a b-0yw6sxot5c=\"\" class=\"dropdown-item\" data-lang=\"ar\" href=\"#\">\n",
      "<span b-0yw6sxot5c=\"\" class=\"flag-icon flag-icon-ae\"></span> Arabic\n",
      "                            </a>, <a b-0yw6sxot5c=\"\" class=\"dropdown-item\" data-lang=\"hy\" href=\"#\">\n",
      "<span b-0yw6sxot5c=\"\" class=\"flag-icon flag-icon-am\"></span> Armenian\n",
      "                            </a>, <a b-0yw6sxot5c=\"\" class=\"dropdown-item\" data-lang=\"az\" href=\"#\">\n",
      "<span b-0yw6sxot5c=\"\" class=\"flag-icon flag-icon-az\"></span> Azerbaijani\n",
      "                            </a>, <a b-0yw6sxot5c=\"\" class=\"dropdown-item\" data-lang=\"eu\" href=\"#\">\n",
      "<span b-0yw6sxot5c=\"\" class=\"flag-icon flag-icon-eu\"></span> Basque\n",
      "                            </a>, <a b-0yw6sxot5c=\"\" class=\"dropdown-item\" data-lang=\"bn\" href=\"#\">\n",
      "<span b-0yw6sxot5c=\"\" class=\"flag-icon flag-icon-bd\"></span> Bengali\n",
      "                            </a>, <a b-0yw6sxot5c=\"\" class=\"dropdown-item\" data-lang=\"bs\" href=\"#\">\n",
      "<span b-0yw6sxot5c=\"\" class=\"flag-icon flag-icon-ba\"></span> Bosnian\n",
      "                            </a>, <a b-0yw6sxot5c=\"\" class=\"dropdown-item\" data-lang=\"ca\" href=\"#\">\n",
      "<span b-0yw6sxot5c=\"\" class=\"flag-icon flag-icon-es\"></span> Catalan\n",
      "                            </a>]\n"
     ]
    }
   ],
   "source": [
    "#Buscar todos las etiquetas que dispongan enlaces con la eqtiqueta de HTML <a> de la página. \n",
    "a_tags = soup.find_all(\"a\")\n",
    "print(a_tags[:10])"
   ]
  },
  {
   "cell_type": "markdown",
   "metadata": {},
   "source": [
    "Because `find_all()` is the most popular method in the Beautiful Soup search API, you can use a shortcut for it. If you treat the BeautifulSoup object as though it were a function, then it’s the same as calling `find_all()` on that object. \n",
    "\n",
    "These two lines of code are equivalent:"
   ]
  },
  {
   "cell_type": "code",
   "execution_count": 6,
   "metadata": {
    "tags": []
   },
   "outputs": [
    {
     "name": "stdout",
     "output_type": "stream",
     "text": [
      "<a b-0yw6sxot5c=\"\" class=\"dropdown-item\" data-lang=\"en\" href=\"#\">\n",
      "<span b-0yw6sxot5c=\"\" class=\"flag-icon flag-icon-us\"></span> English\n",
      "                            </a>\n",
      "<a b-0yw6sxot5c=\"\" class=\"dropdown-item\" data-lang=\"en\" href=\"#\">\n",
      "<span b-0yw6sxot5c=\"\" class=\"flag-icon flag-icon-us\"></span> English\n",
      "                            </a>\n"
     ]
    }
   ],
   "source": [
    "#Busca todos los enlaces que hay en una página web y luego muestra en pantalla el primero que encuentra\n",
    "a_tags = soup.find_all(\"a\")\n",
    "a_tags_alt = soup(\"a\")\n",
    "print(a_tags[0])\n",
    "print(a_tags_alt[0])"
   ]
  },
  {
   "cell_type": "markdown",
   "metadata": {},
   "source": [
    "How many links did we obtain?"
   ]
  },
  {
   "cell_type": "code",
   "execution_count": 7,
   "metadata": {},
   "outputs": [
    {
     "name": "stdout",
     "output_type": "stream",
     "text": [
      "270\n"
     ]
    }
   ],
   "source": [
    "#Cuenta cuántos enlaces (<a>) se encontraron en la página web (almacenados en la lista a_tags)\n",
    "print(len(a_tags))"
   ]
  },
  {
   "cell_type": "markdown",
   "metadata": {},
   "source": [
    "That's a lot! Many elements on a page will have the same HTML tag. For instance, if you search for everything with the `a` tag, you're likely to get more hits, many of which you might not want. Remember, the `a` tag defines a hyperlink, so you'll usually find many on any given page.\n",
    "\n",
    "What if we wanted to search for HTML tags with certain attributes, such as particular CSS classes? \n",
    "\n",
    "We can do this by adding an additional argument to the `find_all`. In the example below, we are finding all the `a` tags, and then filtering those with `class_=\"sidemenu\"`."
   ]
  },
  {
   "cell_type": "code",
   "execution_count": 8,
   "metadata": {
    "tags": []
   },
   "outputs": [
    {
     "data": {
      "text/plain": [
       "[]"
      ]
     },
     "execution_count": 8,
     "metadata": {},
     "output_type": "execute_result"
    }
   ],
   "source": [
    "# Este segmento de código extrae los primeros 5 enlaces que están en el menú lateral de la página web.\n",
    "side_menus = soup(\"a\", class_=\"sidemenu\")\n",
    "side_menus[:5]"
   ]
  },
  {
   "cell_type": "markdown",
   "metadata": {},
   "source": [
    "A more efficient way to search for elements on a website is via a **CSS selector**. For this we have to use a different method called `select()`. Just pass a string into the `.select()` to get all elements with that string as a valid CSS selector.\n",
    "\n",
    "In the example above, we can use `\"a.sidemenu\"` as a CSS selector, which returns all `a` tags with class `sidemenu`."
   ]
  },
  {
   "cell_type": "code",
   "execution_count": 9,
   "metadata": {
    "tags": []
   },
   "outputs": [
    {
     "data": {
      "text/plain": [
       "[]"
      ]
     },
     "execution_count": 9,
     "metadata": {},
     "output_type": "execute_result"
    }
   ],
   "source": [
    "# Trae los primeros 5 enlaces que están en el menú lateral de la página, pero esta vez usando la sintaxis de etiquetas CSS\n",
    "selected = soup.select(\"a.sidemenu\")\n",
    "selected[:5]"
   ]
  },
  {
   "cell_type": "markdown",
   "metadata": {},
   "source": [
    "## 🥊 Challenge: Find All\n",
    "\n",
    "Use BeautifulSoup to find all the `a` elements with class `mainmenu`."
   ]
  },
  {
   "cell_type": "code",
   "execution_count": null,
   "metadata": {},
   "outputs": [
    {
     "data": {
      "text/plain": [
       "[<a class=\"notranslate\" href=\"/Senate/Members/Details/3312\">Neil Anderson</a>,\n",
       " <a class=\"notranslate\" href=\"/Senate/Members/Details/3312\">Neil Anderson</a>,\n",
       " <a class=\"notranslate\" href=\"/Senate/Members/Details/3316\">Omar Aquino</a>,\n",
       " <a class=\"notranslate\" href=\"/Senate/Members/Details/3316\">Omar Aquino</a>,\n",
       " <a class=\"notranslate\" href=\"/Senate/Members/Details/3383\">Li Arellano, Jr.</a>,\n",
       " <a class=\"notranslate\" href=\"/Senate/Members/Details/3383\">Li Arellano, Jr.</a>,\n",
       " <a class=\"notranslate\" href=\"/Senate/Members/Details/3413\">Chris Balkema</a>,\n",
       " <a class=\"notranslate\" href=\"/Senate/Members/Details/3413\">Chris Balkema</a>,\n",
       " <a class=\"notranslate\" href=\"/Senate/Members/Details/3337\">Christopher Belt</a>,\n",
       " <a class=\"notranslate\" href=\"/Senate/Members/Details/3337\">Christopher Belt</a>,\n",
       " <a class=\"notranslate\" href=\"/Senate/Members/Details/3386\">Terri Bryant</a>,\n",
       " <a class=\"notranslate\" href=\"/Senate/Members/Details/3386\">Terri Bryant</a>,\n",
       " <a class=\"notranslate\" href=\"/Senate/Members/Details/3317\">Cristina Castro</a>,\n",
       " <a class=\"notranslate\" href=\"/Senate/Members/Details/3317\">Cristina Castro</a>,\n",
       " <a class=\"notranslate\" href=\"/Senate/Members/Details/3403\">Javier L. Cervantes</a>,\n",
       " <a class=\"notranslate\" href=\"/Senate/Members/Details/3403\">Javier L. Cervantes</a>,\n",
       " <a class=\"notranslate\" href=\"/Senate/Members/Details/3410\">Andrew S. Chesney</a>,\n",
       " <a class=\"notranslate\" href=\"/Senate/Members/Details/3410\">Andrew S. Chesney</a>,\n",
       " <a class=\"notranslate\" href=\"/Senate/Members/Details/3443\">Lakesia Collins</a>,\n",
       " <a class=\"notranslate\" href=\"/Senate/Members/Details/3443\">Lakesia Collins</a>,\n",
       " <a class=\"notranslate\" href=\"/Senate/Members/Details/3291\">Bill Cunningham</a>,\n",
       " <a class=\"notranslate\" href=\"/Senate/Members/Details/3291\">Bill Cunningham</a>,\n",
       " <a class=\"notranslate\" href=\"/Senate/Members/Details/3329\">John F. Curran</a>,\n",
       " <a class=\"notranslate\" href=\"/Senate/Members/Details/3329\">John F. Curran</a>,\n",
       " <a class=\"notranslate\" href=\"/Senate/Members/Details/3334\">Donald P. DeWitte</a>,\n",
       " <a class=\"notranslate\" href=\"/Senate/Members/Details/3334\">Donald P. DeWitte</a>,\n",
       " <a class=\"notranslate\" href=\"/Senate/Members/Details/3407\">Mary Edly-Allen</a>,\n",
       " <a class=\"notranslate\" href=\"/Senate/Members/Details/3407\">Mary Edly-Allen</a>,\n",
       " <a class=\"notranslate\" href=\"/Senate/Members/Details/3339\">Laura Ellman</a>,\n",
       " <a class=\"notranslate\" href=\"/Senate/Members/Details/3339\">Laura Ellman</a>,\n",
       " <a class=\"notranslate\" href=\"/Senate/Members/Details/3412\">Paul Faraci</a>,\n",
       " <a class=\"notranslate\" href=\"/Senate/Members/Details/3412\">Paul Faraci</a>,\n",
       " <a class=\"notranslate\" href=\"/Senate/Members/Details/3376\">Sara Feigenholtz</a>,\n",
       " <a class=\"notranslate\" href=\"/Senate/Members/Details/3376\">Sara Feigenholtz</a>,\n",
       " <a class=\"notranslate\" href=\"/Senate/Members/Details/3338\">Laura Fine</a>,\n",
       " <a class=\"notranslate\" href=\"/Senate/Members/Details/3338\">Laura Fine</a>,\n",
       " <a class=\"notranslate\" href=\"/Senate/Members/Details/3318\">Dale Fowler</a>,\n",
       " <a class=\"notranslate\" href=\"/Senate/Members/Details/3318\">Dale Fowler</a>,\n",
       " <a class=\"notranslate\" href=\"/Senate/Members/Details/3341\">Suzy Glowiak Hilton</a>,\n",
       " <a class=\"notranslate\" href=\"/Senate/Members/Details/3341\">Suzy Glowiak Hilton</a>,\n",
       " <a class=\"notranslate\" href=\"/Senate/Members/Details/3442\">Graciela Guzmán</a>,\n",
       " <a class=\"notranslate\" href=\"/Senate/Members/Details/3442\">Graciela Guzmán</a>,\n",
       " <a class=\"notranslate\" href=\"/Senate/Members/Details/3408\">Michael W. Halpin</a>,\n",
       " <a class=\"notranslate\" href=\"/Senate/Members/Details/3408\">Michael W. Halpin</a>,\n",
       " <a class=\"notranslate\" href=\"/Senate/Members/Details/3268\">Don Harmon</a>,\n",
       " <a class=\"notranslate\" href=\"/Senate/Members/Details/3268\">Don Harmon</a>,\n",
       " <a class=\"notranslate\" href=\"/Senate/Members/Details/3292\">Napoleon Harris, III</a>,\n",
       " <a class=\"notranslate\" href=\"/Senate/Members/Details/3292\">Napoleon Harris, III</a>,\n",
       " <a class=\"notranslate\" href=\"/Senate/Members/Details/3411\">Erica Harriss</a>,\n",
       " <a class=\"notranslate\" href=\"/Senate/Members/Details/3411\">Erica Harriss</a>,\n",
       " <a class=\"notranslate\" href=\"/Senate/Members/Details/3293\">Michael E. Hastings</a>,\n",
       " <a class=\"notranslate\" href=\"/Senate/Members/Details/3293\">Michael E. Hastings</a>,\n",
       " <a class=\"notranslate\" href=\"/Senate/Members/Details/3460\">Darby A. Hills</a>,\n",
       " <a class=\"notranslate\" href=\"/Senate/Members/Details/3460\">Darby A. Hills</a>,\n",
       " <a class=\"notranslate\" href=\"/Senate/Members/Details/3270\">Linda Holmes</a>,\n",
       " <a class=\"notranslate\" href=\"/Senate/Members/Details/3270\">Linda Holmes</a>,\n",
       " <a class=\"notranslate\" href=\"/Senate/Members/Details/3269\">Mattie Hunter</a>,\n",
       " <a class=\"notranslate\" href=\"/Senate/Members/Details/3269\">Mattie Hunter</a>,\n",
       " <a class=\"notranslate\" href=\"/Senate/Members/Details/3378\">Adriane Johnson</a>,\n",
       " <a class=\"notranslate\" href=\"/Senate/Members/Details/3378\">Adriane Johnson</a>,\n",
       " <a class=\"notranslate\" href=\"/Senate/Members/Details/3276\">Emil Jones, III</a>,\n",
       " <a class=\"notranslate\" href=\"/Senate/Members/Details/3276\">Emil Jones, III</a>,\n",
       " <a class=\"notranslate\" href=\"/Senate/Members/Details/3372\">Patrick J. Joyce</a>,\n",
       " <a class=\"notranslate\" href=\"/Senate/Members/Details/3372\">Patrick J. Joyce</a>,\n",
       " <a class=\"notranslate\" href=\"/Senate/Members/Details/3271\">David Koehler</a>,\n",
       " <a class=\"notranslate\" href=\"/Senate/Members/Details/3271\">David Koehler</a>,\n",
       " <a class=\"notranslate\" href=\"/Senate/Members/Details/3406\">Seth Lewis</a>,\n",
       " <a class=\"notranslate\" href=\"/Senate/Members/Details/3406\">Seth Lewis</a>,\n",
       " <a class=\"notranslate\" href=\"/Senate/Members/Details/3264\">Kimberly A. Lightford</a>,\n",
       " <a class=\"notranslate\" href=\"/Senate/Members/Details/3264\">Kimberly A. Lightford</a>,\n",
       " <a class=\"notranslate\" href=\"/Senate/Members/Details/3380\">Meg Loughran Cappel</a>,\n",
       " <a class=\"notranslate\" href=\"/Senate/Members/Details/3380\">Meg Loughran Cappel</a>,\n",
       " <a class=\"notranslate\" href=\"/Senate/Members/Details/3369\">Robert F. Martwick</a>,\n",
       " <a class=\"notranslate\" href=\"/Senate/Members/Details/3369\">Robert F. Martwick</a>,\n",
       " <a class=\"notranslate\" href=\"/Senate/Members/Details/3342\">Steve McClure</a>,\n",
       " <a class=\"notranslate\" href=\"/Senate/Members/Details/3342\">Steve McClure</a>,\n",
       " <a class=\"notranslate\" href=\"/Senate/Members/Details/3294\">Julie A. Morrison</a>,\n",
       " <a class=\"notranslate\" href=\"/Senate/Members/Details/3294\">Julie A. Morrison</a>,\n",
       " <a class=\"notranslate\" href=\"/Senate/Members/Details/3313\">Laura M. Murphy</a>,\n",
       " <a class=\"notranslate\" href=\"/Senate/Members/Details/3313\">Laura M. Murphy</a>,\n",
       " <a class=\"notranslate\" href=\"/Senate/Members/Details/3343\">Robert Peters</a>,\n",
       " <a class=\"notranslate\" href=\"/Senate/Members/Details/3343\">Robert Peters</a>,\n",
       " <a class=\"notranslate\" href=\"/Senate/Members/Details/3344\">Jason Plummer</a>,\n",
       " <a class=\"notranslate\" href=\"/Senate/Members/Details/3344\">Jason Plummer</a>,\n",
       " <a class=\"notranslate\" href=\"/Senate/Members/Details/3404\">Mike Porfirio</a>,\n",
       " <a class=\"notranslate\" href=\"/Senate/Members/Details/3404\">Mike Porfirio</a>,\n",
       " <a class=\"notranslate\" href=\"/Senate/Members/Details/3405\">Willie Preston</a>,\n",
       " <a class=\"notranslate\" href=\"/Senate/Members/Details/3405\">Willie Preston</a>,\n",
       " <a class=\"notranslate\" href=\"/Senate/Members/Details/3281\">Sue Rezin</a>,\n",
       " <a class=\"notranslate\" href=\"/Senate/Members/Details/3281\">Sue Rezin</a>,\n",
       " <a class=\"notranslate\" href=\"/Senate/Members/Details/3295\">Chapin Rose</a>,\n",
       " <a class=\"notranslate\" href=\"/Senate/Members/Details/3295\">Chapin Rose</a>,\n",
       " <a class=\"notranslate\" href=\"/Senate/Members/Details/3398\">Mike Simmons</a>,\n",
       " <a class=\"notranslate\" href=\"/Senate/Members/Details/3398\">Mike Simmons</a>,\n",
       " <a class=\"notranslate\" href=\"/Senate/Members/Details/3331\">Elgie R. Sims, Jr.</a>,\n",
       " <a class=\"notranslate\" href=\"/Senate/Members/Details/3331\">Elgie R. Sims, Jr.</a>,\n",
       " <a class=\"notranslate\" href=\"/Senate/Members/Details/3296\">Steve Stadelman</a>,\n",
       " <a class=\"notranslate\" href=\"/Senate/Members/Details/3296\">Steve Stadelman</a>,\n",
       " <a class=\"notranslate\" href=\"/Senate/Members/Details/3265\">Dave Syverson</a>,\n",
       " <a class=\"notranslate\" href=\"/Senate/Members/Details/3265\">Dave Syverson</a>,\n",
       " <a class=\"notranslate\" href=\"/Senate/Members/Details/3319\">Jil Tracy</a>,\n",
       " <a class=\"notranslate\" href=\"/Senate/Members/Details/3319\">Jil Tracy</a>,\n",
       " <a class=\"notranslate\" href=\"/Senate/Members/Details/3399\">Doris Turner</a>,\n",
       " <a class=\"notranslate\" href=\"/Senate/Members/Details/3399\">Doris Turner</a>,\n",
       " <a class=\"notranslate\" href=\"/Senate/Members/Details/3397\">Sally J. Turner</a>,\n",
       " <a class=\"notranslate\" href=\"/Senate/Members/Details/3397\">Sally J. Turner</a>,\n",
       " <a class=\"notranslate\" href=\"/Senate/Members/Details/3409\">Rachel Ventura</a>,\n",
       " <a class=\"notranslate\" href=\"/Senate/Members/Details/3409\">Rachel Ventura</a>,\n",
       " <a class=\"notranslate\" href=\"/Senate/Members/Details/3385\">Karina Villa</a>,\n",
       " <a class=\"notranslate\" href=\"/Senate/Members/Details/3385\">Karina Villa</a>,\n",
       " <a class=\"notranslate\" href=\"/Senate/Members/Details/3375\">Celina Villanueva</a>,\n",
       " <a class=\"notranslate\" href=\"/Senate/Members/Details/3375\">Celina Villanueva</a>,\n",
       " <a class=\"notranslate\" href=\"/Senate/Members/Details/3345\">Ram Villivalam</a>,\n",
       " <a class=\"notranslate\" href=\"/Senate/Members/Details/3345\">Ram Villivalam</a>,\n",
       " <a class=\"notranslate\" href=\"/Senate/Members/Details/3449\">Mark L. Walker</a>,\n",
       " <a class=\"notranslate\" href=\"/Senate/Members/Details/3449\">Mark L. Walker</a>,\n",
       " <a class=\"notranslate\" href=\"/Senate/Members/Details/3336\">Craig Wilcox</a>,\n",
       " <a class=\"notranslate\" href=\"/Senate/Members/Details/3336\">Craig Wilcox</a>,\n",
       " <a class=\"notranslate\" href=\"/Senate/Members/Details/3315\">Dan McConchie</a>,\n",
       " <a class=\"notranslate\" href=\"/Senate/Members/Details/3315\">Dan McConchie</a>]"
      ]
     },
     "execution_count": 22,
     "metadata": {},
     "output_type": "execute_result"
    }
   ],
   "source": [
    "# Ese código extrae todos los enlaces que pertenecen al menú principal de la página web.\n",
    "#soup.select(\"a.mainmenu\")\n",
    "soup.select(\"a.notranslate\")\n",
    "# Como los arrays salian vacíos se cambio a otra clase para continuar las pruebas, esta es notranslate"
   ]
  },
  {
   "cell_type": "markdown",
   "metadata": {},
   "source": [
    "## Step 4: Get Attributes and Text of Elements\n",
    "\n",
    "Once we identify elements, we want the access information in that element. Usually, this means two things:\n",
    "\n",
    "1. Text\n",
    "2. Attributes\n",
    "\n",
    "Getting the text inside an element is easy. All we have to do is use the `text` member of a `tag` object:"
   ]
  },
  {
   "cell_type": "code",
   "execution_count": null,
   "metadata": {
    "tags": []
   },
   "outputs": [
    {
     "name": "stdout",
     "output_type": "stream",
     "text": [
      "<a class=\"notranslate\" href=\"/Senate/Members/Details/3312\">Neil Anderson</a>\n",
      "Class:  <class 'bs4.element.Tag'>\n"
     ]
    }
   ],
   "source": [
    "#El código obtiene los enlaces del menú lateral, muestra el primero y verifica su tipo de objeto (first_link)). \n",
    "# Obtener todos los enlaces del menú lateral como una lista\n",
    "#side_menu_links = soup.select(\"a.sidemenu\") #Se cambio a esta clase para continuar las pruebas\n",
    "side_menu_links = soup.select(\"a.notranslate\")\n",
    "\n",
    "# Examina el primer enlace.\n",
    "first_link = side_menu_links[0]\n",
    "print(first_link)\n",
    "\n",
    "# A qué clase pertenece esta variable?\n",
    "print('Class: ', type(first_link))\n",
    "\n",
    "# la clase resulto como un bs4.element.tag"
   ]
  },
  {
   "cell_type": "markdown",
   "metadata": {},
   "source": [
    "It's a Beautiful Soup tag! This means it has a `text` member:"
   ]
  },
  {
   "cell_type": "code",
   "execution_count": 24,
   "metadata": {
    "tags": []
   },
   "outputs": [
    {
     "name": "stdout",
     "output_type": "stream",
     "text": [
      "Neil Anderson\n"
     ]
    }
   ],
   "source": [
    "#Imprime en pantalla solo el texto visible del enlace guardado en first_link\n",
    "print(first_link.text)"
   ]
  },
  {
   "cell_type": "markdown",
   "metadata": {},
   "source": [
    "Sometimes we want the value of certain attributes. This is particularly relevant for `a` tags, or links, where the `href` attribute tells us where the link goes.\n",
    "\n",
    "💡 **Tip**: You can access a tag’s attributes by treating the tag like a dictionary:"
   ]
  },
  {
   "cell_type": "code",
   "execution_count": 25,
   "metadata": {
    "tags": []
   },
   "outputs": [
    {
     "name": "stdout",
     "output_type": "stream",
     "text": [
      "/Senate/Members/Details/3312\n"
     ]
    }
   ],
   "source": [
    "#Imprime la URL a la que lleva ese enlace en la página web\n",
    "print(first_link['href'])"
   ]
  },
  {
   "cell_type": "markdown",
   "metadata": {},
   "source": [
    "## 🥊 Challenge: Extract specific attributes\n",
    "\n",
    "Extract all `href` attributes for each `mainmenu` URL."
   ]
  },
  {
   "cell_type": "code",
   "execution_count": 27,
   "metadata": {},
   "outputs": [
    {
     "data": {
      "text/plain": [
       "['/Senate/Members/List',\n",
       " '/Documents/Senate/104th_Senate_Officers.pdf',\n",
       " '/Documents/Senate/104th_Senate_Leadership.pdf',\n",
       " 'https://www.ilga.gov/Documents/Senate/104th_Senate_Seating_Chart.pdf',\n",
       " 'Members/rptMemberList']"
      ]
     },
     "execution_count": 27,
     "metadata": {},
     "output_type": "execute_result"
    }
   ],
   "source": [
    "#Crea una lista con los enlaces (URLs) del menú principal de la página web\n",
    "[link['href'] for link in soup.select(\"a.mainmenu\")]\n",
    "\n",
    "#Como el array sigue saliendo vacío entonces se procede a realizar el procedimiento con la clase btn\n",
    "[link['href'] for link in soup.select(\"a.btn\")]"
   ]
  },
  {
   "cell_type": "markdown",
   "metadata": {},
   "source": [
    "<a id='scrape'></a>\n",
    "\n",
    "# Scraping the Illinois General Assembly\n",
    "\n",
    "Believe it or not, those are really the fundamental tools you need to scrape a website. Once you spend more time familiarizing yourself with HTML and CSS, then it's simply a matter of understanding the structure of a particular website and intelligently applying the tools of Beautiful Soup and Python.\n",
    "\n",
    "Let's apply these skills to scrape the [Illinois 98th General Assembly](http://www.ilga.gov/senate/default.asp?GA=98).\n",
    "\n",
    "Specifically, our goal is to scrape information on each senator, including their name, district, and party."
   ]
  },
  {
   "cell_type": "markdown",
   "metadata": {},
   "source": [
    "## Scrape and Soup the Webpage\n",
    "\n",
    "Let's scrape and parse the webpage, using the tools we learned in the previous section."
   ]
  },
  {
   "cell_type": "code",
   "execution_count": 28,
   "metadata": {
    "tags": []
   },
   "outputs": [],
   "source": [
    "#Este bloque descarga una página web y la prepara para analizarla con BeautifulSoup.\n",
    "# Descarga el contenido de la página web\n",
    "req = requests.get('http://www.ilga.gov/senate/default.asp?GA=98')\n",
    "# Guarda el contenido HTML como texto\n",
    "src = req.text\n",
    "# Convierte el HTML en un objeto manipulable\n",
    "soup = BeautifulSoup(src, \"lxml\")"
   ]
  },
  {
   "cell_type": "markdown",
   "metadata": {},
   "source": [
    "## Search for the Table Elements\n",
    "\n",
    "Our goal is to obtain the elements in the table on the webpage. Remember: rows are identified by the `tr` tag. Let's use `find_all` to obtain these elements."
   ]
  },
  {
   "cell_type": "code",
   "execution_count": 31,
   "metadata": {},
   "outputs": [
    {
     "data": {
      "text/plain": [
       "122"
      ]
     },
     "execution_count": 31,
     "metadata": {},
     "output_type": "execute_result"
    }
   ],
   "source": [
    "# Este bloque obtiene todas las filas de tabla de la página y guarda cuántas hay\n",
    "rows = soup.find_all(\"tr\")\n",
    "len(rows)\n",
    "\n",
    "## El resultado sale vacío pues ahora la pagina usa un sistema de grid de bootstrap, pero para la prueba se realizará con los elementos h5 que son los titulos de las tarjetas\n",
    "rows = soup.find_all(\"h5\")\n",
    "len(rows)"
   ]
  },
  {
   "cell_type": "markdown",
   "metadata": {},
   "source": [
    "⚠️ **Warning**: Keep in mind: `find_all` gets *all* the elements with the `tr` tag. We only want some of them. If we use the 'Inspect' function in Google Chrome and look carefully, then we can use some CSS selectors to get just the rows we're interested in. Specifically, we want the inner rows of the table:"
   ]
  },
  {
   "cell_type": "code",
   "execution_count": 96,
   "metadata": {},
   "outputs": [
    {
     "name": "stdout",
     "output_type": "stream",
     "text": [
      "<div class=\"member-overlay\">\n",
      "<h5 class=\"card-title\"><a class=\"notranslate\" href=\"/Senate/Members/Details/3312\">Neil Anderson</a> (R)</h5>\n",
      "<p class=\"card-text\">\n",
      "                                            Republican Caucus Chair\n",
      "                                            <br/>47th District\n",
      "                                        </p>\n",
      "</div> \n",
      "\n",
      "<div class=\"member-overlay\">\n",
      "<h5 class=\"card-title\"><a class=\"notranslate\" href=\"/Senate/Members/Details/3312\">Neil Anderson</a> (R)</h5>\n",
      "<p class=\"card-text\">\n",
      "                                            Republican Caucus Chair\n",
      "                                            <br/>47th District\n",
      "                                        </p>\n",
      "</div> \n",
      "\n",
      "<div class=\"member-overlay\">\n",
      "<h5 class=\"card-title\"><a class=\"notranslate\" href=\"/Senate/Members/Details/3316\">Omar Aquino</a> (D)</h5>\n",
      "<p class=\"card-text\">\n",
      "                                            Majority Caucus Chair\n",
      "                                            <br/>2nd District\n",
      "                                        </p>\n",
      "</div> \n",
      "\n",
      "<div class=\"member-overlay\">\n",
      "<h5 class=\"card-title\"><a class=\"notranslate\" href=\"/Senate/Members/Details/3316\">Omar Aquino</a> (D)</h5>\n",
      "<p class=\"card-text\">\n",
      "                                            Majority Caucus Chair\n",
      "                                            <br/>2nd District\n",
      "                                        </p>\n",
      "</div> \n",
      "\n",
      "<div class=\"member-overlay\">\n",
      "<h5 class=\"card-title\"><a class=\"notranslate\" href=\"/Senate/Members/Details/3383\">Li Arellano, Jr.</a> (R)</h5>\n",
      "<p class=\"card-text\">\n",
      "                                            Senator\n",
      "                                            <br/>37th District\n",
      "                                        </p>\n",
      "</div> \n",
      "\n"
     ]
    }
   ],
   "source": [
    "# Este bloque extrae las primeras 5 filas de la tabla y las imprime en pantalla \n",
    "# rows = soup.select('tr tr tr')\n",
    "rows = soup.select('div.member-overlay')\n",
    "\n",
    "for row in rows[:5]:\n",
    "    print(row, '\\n')"
   ]
  },
  {
   "cell_type": "markdown",
   "metadata": {},
   "source": [
    "It looks like we want everything after the first two rows. Let's work with a single row to start, and build our loop from there."
   ]
  },
  {
   "cell_type": "code",
   "execution_count": 59,
   "metadata": {},
   "outputs": [
    {
     "name": "stdout",
     "output_type": "stream",
     "text": [
      "<div class=\"member-overlay\">\n",
      " <h5 class=\"card-title\">\n",
      "  <a class=\"notranslate\" href=\"/Senate/Members/Details/3316\">\n",
      "   Omar Aquino\n",
      "  </a>\n",
      "  (D)\n",
      " </h5>\n",
      " <p class=\"card-text\">\n",
      "  Majority Caucus Chair\n",
      "  <br/>\n",
      "  2nd District\n",
      " </p>\n",
      "</div>\n",
      "\n"
     ]
    }
   ],
   "source": [
    "example_row = rows[2]\n",
    "#Imprime el contenido del example_row de manera ordenada anadiendo saltos de linea usando prettify().\n",
    "print(example_row.prettify())"
   ]
  },
  {
   "cell_type": "markdown",
   "metadata": {},
   "source": [
    "Let's break this row down into its component cells/columns using the `select` method with CSS selectors. Looking closely at the HTML, there are a couple of ways we could do this.\n",
    "\n",
    "* We could identify the cells by their tag `td`.\n",
    "* We could use the the class name `.detail`.\n",
    "* We could combine both and use the selector `td.detail`."
   ]
  },
  {
   "cell_type": "code",
   "execution_count": 63,
   "metadata": {},
   "outputs": [
    {
     "name": "stdout",
     "output_type": "stream",
     "text": [
      "<p class=\"card-text\">\n",
      "                                            Majority Caucus Chair\n",
      "                                            <br/>2nd District\n",
      "                                        </p>\n",
      "\n",
      "<p class=\"card-text\">\n",
      "                                            Majority Caucus Chair\n",
      "                                            <br/>2nd District\n",
      "                                        </p>\n",
      "\n",
      "\n"
     ]
    }
   ],
   "source": [
    "\"\"\" for cell in example_row.select('td'):\n",
    "    print(cell)\n",
    "print()\n",
    "\n",
    "for cell in example_row.select('.detail'):\n",
    "    print(cell)\n",
    "print()\n",
    "\n",
    "for cell in example_row.select('td.detail'):\n",
    "    print(cell)\n",
    "print() \"\"\"\n",
    "\n",
    "for cell in example_row.select('p'):\n",
    "    print(cell)\n",
    "print()\n",
    "\n",
    "for cell in example_row.select('.card-text'):\n",
    "    print(cell)\n",
    "print()\n",
    "\n",
    "for cell in example_row.select('a.card-text'):\n",
    "    print(cell)\n",
    "print()\n",
    "\n",
    "#Como no hay sistema de filas, se usan los elementos que se tienen disponibles"
   ]
  },
  {
   "cell_type": "markdown",
   "metadata": {},
   "source": [
    "We can confirm that these are all the same."
   ]
  },
  {
   "cell_type": "code",
   "execution_count": null,
   "metadata": {
    "tags": []
   },
   "outputs": [],
   "source": [
    "# assert — una afirmación que Python verificará como cierta. Si no se cumple, Python lanzará un error.\n",
    "# Afirma que los 3 resultados son iguales( en contenido y orden).\n",
    "#assert example_row.select('td') == example_row.select('.detail') == example_row.select('td.detail')\n",
    "assert example_row.select('a') == example_row.select('.card-text') == example_row.select('p.card-text')"
   ]
  },
  {
   "cell_type": "markdown",
   "metadata": {},
   "source": [
    "Let's use the selector `td.detail` to be as specific as possible."
   ]
  },
  {
   "cell_type": "code",
   "execution_count": null,
   "metadata": {},
   "outputs": [
    {
     "data": {
      "text/plain": [
       "[<p class=\"card-text\">\n",
       "                                             Majority Caucus Chair\n",
       "                                             <br/>2nd District\n",
       "                                         </p>]"
      ]
     },
     "execution_count": 65,
     "metadata": {},
     "output_type": "execute_result"
    }
   ],
   "source": [
    "# Select only those 'td' tags with class 'detail' \n",
    "# Busca todos los elementos <td> que tengan la clase detail dentro de example_row.\n",
    "#detail_cells = example_row.select('td.detail')\n",
    "detail_cells = example_row.select('p.card-text')\n",
    "# Muestra la lista de objetos <td> con clase detail, renderizados como HTML.\n",
    "#detail_cells\n",
    "detail_cells\n",
    "\n",
    "#los elementos td se cambian por p y los detail por card-text"
   ]
  },
  {
   "cell_type": "markdown",
   "metadata": {},
   "source": [
    "Most of the time, we're interested in the actual **text** of a website, not its tags. Recall that to get the text of an HTML element, we use the `text` member:"
   ]
  },
  {
   "cell_type": "code",
   "execution_count": 66,
   "metadata": {},
   "outputs": [
    {
     "name": "stdout",
     "output_type": "stream",
     "text": [
      "['\\r\\n                                            Majority Caucus Chair\\r\\n                                            2nd District\\r\\n                                        ']\n"
     ]
    }
   ],
   "source": [
    "# Keep only the text in each of those cells\n",
    "#Recorre todas las celdas de la lista details_cells, obtiene el contenido de texto de cada celda y guarda en una lista llamada row data.\n",
    "row_data = [cell.text for cell in detail_cells]\n",
    "print(row_data)"
   ]
  },
  {
   "cell_type": "markdown",
   "metadata": {},
   "source": [
    "Looks good! Now we just use our basic Python knowledge to get the elements of this list that we want. Remember, we want the senator's name, their district, and their party."
   ]
  },
  {
   "cell_type": "code",
   "execution_count": 69,
   "metadata": {},
   "outputs": [
    {
     "name": "stdout",
     "output_type": "stream",
     "text": [
      "\n",
      "                                            Majority Caucus Chair\n",
      "                                            2nd District\n",
      "                                        \n"
     ]
    }
   ],
   "source": [
    "# Imprime distintos elementos de la lista row_data. Esta lista debe contener al menos 5 elementos.\n",
    "print(row_data[0]) # Name\n",
    "#print(row_data[3]) # District\n",
    "#print(row_data[4]) # Party\n",
    "\n",
    "#se omiten las otras lineas ya que no se usa el sistema de filas"
   ]
  },
  {
   "cell_type": "markdown",
   "metadata": {},
   "source": [
    "## Getting Rid of Junk Rows\n",
    "\n",
    "We saw at the beginning that not all of the rows we got actually correspond to a senator. We'll need to do some cleaning before we can proceed forward. Take a look at some examples:"
   ]
  },
  {
   "cell_type": "code",
   "execution_count": 70,
   "metadata": {},
   "outputs": [
    {
     "name": "stdout",
     "output_type": "stream",
     "text": [
      "Row 0:\n",
      " <div class=\"member-overlay\">\n",
      "<h5 class=\"card-title\"><a class=\"notranslate\" href=\"/Senate/Members/Details/3312\">Neil Anderson</a> (R)</h5>\n",
      "<p class=\"card-text\">\n",
      "                                            Republican Caucus Chair\n",
      "                                            <br/>47th District\n",
      "                                        </p>\n",
      "</div> \n",
      "\n",
      "Row 1:\n",
      " <div class=\"member-overlay\">\n",
      "<h5 class=\"card-title\"><a class=\"notranslate\" href=\"/Senate/Members/Details/3312\">Neil Anderson</a> (R)</h5>\n",
      "<p class=\"card-text\">\n",
      "                                            Republican Caucus Chair\n",
      "                                            <br/>47th District\n",
      "                                        </p>\n",
      "</div> \n",
      "\n",
      "Last Row:\n",
      " <div class=\"member-overlay\">\n",
      "<h5 class=\"card-title\"><a class=\"notranslate\" href=\"/Senate/Members/Details/3315\">Dan McConchie</a> (R)</h5>\n",
      "<p class=\"card-text\">\n",
      "                                            Senator\n",
      "                                            <br/>26th District\n",
      "                                        </p>\n",
      "</div>\n"
     ]
    }
   ],
   "source": [
    "# Imprime el primer elemento de la lista rows. rows[0] es una fila HTML completa.\n",
    "print('Row 0:\\n', rows[0], '\\n')\n",
    "# Imprime el segundo elemento de la lista rows. rows[1] es una fila HTML completa.\n",
    "print('Row 1:\\n', rows[1], '\\n')\n",
    "# Imprime el ultimo elemento de la lista rows. rows[-1] es una fila HTML completa.\n",
    "print('Last Row:\\n', rows[-1])"
   ]
  },
  {
   "cell_type": "markdown",
   "metadata": {},
   "source": [
    "When we write our for loop, we only want it to apply to the relevant rows. So we'll need to filter out the irrelevant rows. The way to do this is to compare some of these to the rows we do want, see how they differ, and then formulate that in a conditional.\n",
    "\n",
    "As you can imagine, there a lot of possible ways to do this, and it'll depend on the website. We'll show some here to give you an idea of how to do this."
   ]
  },
  {
   "cell_type": "code",
   "execution_count": null,
   "metadata": {},
   "outputs": [
    {
     "name": "stdout",
     "output_type": "stream",
     "text": [
      "5\n",
      "5\n",
      "5\n",
      "5\n"
     ]
    }
   ],
   "source": [
    "# Mide el numero de elementos hijos directos del objeto <div>, no cuántas celdas <p> tiene exactamente.\n",
    "# Bad rows\n",
    "print(len(rows[0]))\n",
    "print(len(rows[1]))\n",
    "\n",
    "# Good rows\n",
    "print(len(rows[2]))\n",
    "print(len(rows[3]))"
   ]
  },
  {
   "cell_type": "markdown",
   "metadata": {},
   "source": [
    "Perhaps good rows have a length of 5. Let's check:"
   ]
  },
  {
   "cell_type": "code",
   "execution_count": 72,
   "metadata": {},
   "outputs": [],
   "source": [
    "# Crea una nueva lista llamada good_rows que filtra la lista original rows asumiendo filas con datos validos las que tienen al menos 5 celdas.\n",
    "good_rows = [row for row in rows if len(row) == 5]\n",
    "# Muestra los datos de la nueva lista good_rows.\n",
    "# Let's check some rows\n",
    "# print(good_rows[0], '\\n') #como no hay sistema de celdas, da error\n",
    "# print(good_rows[-2], '\\n')\n",
    "# print(good_rows[-1])"
   ]
  },
  {
   "cell_type": "markdown",
   "metadata": {},
   "source": [
    "We found a footer row in our list that we'd like to avoid. Let's try something else:"
   ]
  },
  {
   "cell_type": "code",
   "execution_count": 73,
   "metadata": {},
   "outputs": [
    {
     "data": {
      "text/plain": [
       "[<p class=\"card-text\">\n",
       "                                             Majority Caucus Chair\n",
       "                                             <br/>2nd District\n",
       "                                         </p>]"
      ]
     },
     "execution_count": 73,
     "metadata": {},
     "output_type": "execute_result"
    }
   ],
   "source": [
    "# Usa un selector para encontrar todas las celdas <td> que tengan la clase \"detail\" dentro de la tercera fila de rows[]\n",
    "#rows[2].select('td.detail') \n",
    "rows[2].select('p.card-text') "
   ]
  },
  {
   "cell_type": "code",
   "execution_count": 74,
   "metadata": {},
   "outputs": [
    {
     "name": "stdout",
     "output_type": "stream",
     "text": [
      "[] \n",
      "\n",
      "[] \n",
      "\n",
      "[<p class=\"card-text\">\n",
      "                                            Senator\n",
      "                                            <br/>26th District\n",
      "                                        </p>] \n",
      "\n",
      "[<p class=\"card-text\">\n",
      "                                            Senator\n",
      "                                            <br/>37th District\n",
      "                                        </p>] \n",
      "\n",
      "Checking rows...\n",
      "\n",
      "<div class=\"member-overlay\">\n",
      "<h5 class=\"card-title\"><a class=\"notranslate\" href=\"/Senate/Members/Details/3312\">Neil Anderson</a> (R)</h5>\n",
      "<p class=\"card-text\">\n",
      "                                            Republican Caucus Chair\n",
      "                                            <br/>47th District\n",
      "                                        </p>\n",
      "</div> \n",
      "\n",
      "<div class=\"member-overlay\">\n",
      "<h5 class=\"card-title\"><a class=\"notranslate\" href=\"/Senate/Members/Details/3315\">Dan McConchie</a> (R)</h5>\n",
      "<p class=\"card-text\">\n",
      "                                            Senator\n",
      "                                            <br/>26th District\n",
      "                                        </p>\n",
      "</div>\n"
     ]
    }
   ],
   "source": [
    "# Esto selecciona todas las celdas <td> que tienen la clase detail dentro de esa fila\n",
    "# Si devuelve una lista vacia es una bad row. Si la fila contiene celdas con esa clase, devuelve una good row.\n",
    "# Bad row\n",
    "print(rows[-1].select('td.detail'), '\\n')\n",
    "# Good row\n",
    "print(rows[5].select('td.detail'), '\\n')\n",
    "\n",
    "# Bad row\n",
    "print(rows[-1].select('p.card-text'), '\\n')\n",
    "# Good row\n",
    "print(rows[5].select('p.card-text'), '\\n')\n",
    "\n",
    "# Filtra las filas que tengan elementos td.detail descartando filas vacias.\n",
    "# How about this?\n",
    "#good_rows = [row for row in rows if row.select('td.detail')]\n",
    "good_rows = [row for row in rows if row.select('p.card-text')]\n",
    "\n",
    "# Imprime texto \"Analizando filas...\"\n",
    "print(\"Checking rows...\\n\")\n",
    "# Imprime elementos de la lista good_rows. En este caso la primera y ultima fila en especifico.\n",
    "print(good_rows[0], '\\n')\n",
    "print(good_rows[-1])"
   ]
  },
  {
   "cell_type": "markdown",
   "metadata": {},
   "source": [
    "Looks like we found something that worked!"
   ]
  },
  {
   "cell_type": "markdown",
   "metadata": {},
   "source": [
    "## Loop it All Together\n",
    "\n",
    "Now that we've seen how to get the data we want from one row, as well as filter out the rows we don't want, let's put it all together into a loop."
   ]
  },
  {
   "cell_type": "code",
   "execution_count": 84,
   "metadata": {
    "tags": []
   },
   "outputs": [],
   "source": [
    "# Define storage list\n",
    "# Crea lista vacia de nombre members.\n",
    "members = []\n",
    "\n",
    "# Get rid of junk rows\n",
    "# Filtra las filas validas, descartado las filas que no contienen elementos td.detail. \n",
    "# valid_rows = [row for row in rows if row.select('td.detail')]\n",
    "valid_rows = [row for row in rows if row.select('p.card-text')]\n",
    "\n",
    "# Loop through all rows\n",
    "# Loop para iterar en todas las filas validas.\n",
    "for row in valid_rows:\n",
    "    # Select only those 'td' tags with class 'detail'\n",
    "    # Selecciona las filas validas que tengan etiquetas 'td' con clase detail y las guarda en lista detail_cells.\n",
    "    #detail_cells = row.select('td.detail')\n",
    "    detail_cells = row.select('p.card-text')\n",
    "\n",
    "    # Keep only the text in each of those cells\n",
    "    # Extrae solamente el texto de las celdas con elementos <td class='detail'> en las filas de detail_cells y lo guarda en lista row_data.\n",
    "    row_data = [cell.text for cell in detail_cells]\n",
    "    # Collect information\n",
    "    # Crea variables name, district, party donde asigna informacion de elementos especificos de la lista row_data.\n",
    "    name = row_data[0]\n",
    "    #district = int(row_data[3])\n",
    "    #party = row_data[4]\n",
    "    #Como no es el mismo sistema de filas, se guarda la informacion en un texto \n",
    "\n",
    "    # Store in a tuple\n",
    "    # Guarda las variables en una tupla.\n",
    "    #senator = (name, district, party)\n",
    "    senator = (name)\n",
    "\n",
    "    # Append to list\n",
    "    # Anade la informacion de la tupla senator a la lista members.\n",
    "    members.append(senator)"
   ]
  },
  {
   "cell_type": "code",
   "execution_count": 85,
   "metadata": {},
   "outputs": [
    {
     "data": {
      "text/plain": [
       "120"
      ]
     },
     "execution_count": 85,
     "metadata": {},
     "output_type": "execute_result"
    }
   ],
   "source": [
    "# Should be 61\n",
    "len(members)"
   ]
  },
  {
   "cell_type": "markdown",
   "metadata": {},
   "source": [
    "Let's take a look at what we have in `members`."
   ]
  },
  {
   "cell_type": "code",
   "execution_count": 86,
   "metadata": {},
   "outputs": [
    {
     "name": "stdout",
     "output_type": "stream",
     "text": [
      "['\\r\\n                                            Republican Caucus Chair\\r\\n                                            47th District\\r\\n                                        ', '\\r\\n                                            Republican Caucus Chair\\r\\n                                            47th District\\r\\n                                        ', '\\r\\n                                            Majority Caucus Chair\\r\\n                                            2nd District\\r\\n                                        ', '\\r\\n                                            Majority Caucus Chair\\r\\n                                            2nd District\\r\\n                                        ', '\\r\\n                                            Senator\\r\\n                                            37th District\\r\\n                                        ']\n"
     ]
    }
   ],
   "source": [
    "print(members[:5])"
   ]
  },
  {
   "cell_type": "markdown",
   "metadata": {},
   "source": [
    "## 🥊  Challenge: Get `href` elements pointing to members' bills \n",
    "\n",
    "The code above retrieves information on:  \n",
    "\n",
    "- the senator's name,\n",
    "- their district number,\n",
    "- and their party.\n",
    "\n",
    "We now want to retrieve the URL for each senator's list of bills. Each URL will follow a specific format. \n",
    "\n",
    "The format for the list of bills for a given senator is:\n",
    "\n",
    "`http://www.ilga.gov/senate/SenatorBills.asp?GA=98&MemberID=[MEMBER_ID]&Primary=True`\n",
    "\n",
    "to get something like:\n",
    "\n",
    "`http://www.ilga.gov/senate/SenatorBills.asp?MemberID=1911&GA=98&Primary=True`\n",
    "\n",
    "in which `MEMBER_ID=1911`. \n",
    "\n",
    "You should be able to see that, unfortunately, `MEMBER_ID` is not currently something pulled out in our scraping code.\n",
    "\n",
    "Your initial task is to modify the code above so that we also **retrieve the full URL which points to the corresponding page of primary-sponsored bills**, for each member, and return it along with their name, district, and party.\n",
    "\n",
    "Tips: \n",
    "\n",
    "* To do this, you will want to get the appropriate anchor element (`<a>`) in each legislator's row of the table. You can again use the `.select()` method on the `row` object in the loop to do this — similar to the command that finds all of the `td.detail` cells in the row. Remember that we only want the link to the legislator's bills, not the committees or the legislator's profile page.\n",
    "* The anchor elements' HTML will look like `<a href=\"/senate/Senator.asp/...\">Bills</a>`. The string in the `href` attribute contains the **relative** link we are after. You can access an attribute of a BeatifulSoup `Tag` object the same way you access a Python dictionary: `anchor['attributeName']`. See the <a href=\"http://www.crummy.com/software/BeautifulSoup/bs4/doc/#tag\">documentation</a> for more details.\n",
    "* There are a _lot_ of different ways to use BeautifulSoup to get things done. whatever you need to do to pull the `href` out is fine.\n",
    "\n",
    "The code has been partially filled out for you. Fill it in where it says `#YOUR CODE HERE`. Save the path into an object called `full_path`."
   ]
  },
  {
   "cell_type": "code",
   "execution_count": 116,
   "metadata": {
    "tags": []
   },
   "outputs": [],
   "source": [
    "# Se hace una peticion get\n",
    "req = requests.get('http://www.ilga.gov/senate/default.asp?GA=98')\n",
    "# Se lee el contenido de la pagina\n",
    "src = req.text\n",
    "# Se le inserta en la 'sopa' con la libreria\n",
    "soup = BeautifulSoup(src, \"lxml\")\n",
    "# Se crea una lista vacia para guardar los miembros\n",
    "members = []\n",
    "\n",
    "# Returns every ‘tr tr tr’ css selector in the page\n",
    "# como no funciona con filas se hace con div.member-overlay\n",
    "rows = soup.select('div.member-overlay')\n",
    "# Get rid of junk rows\n",
    "# como no funciona con columnas se hace con la propiedad p o a\n",
    "rows = [row for row in rows if row.select('a.notranslate')]\n",
    "\n",
    "# Se hace un lazo for en todas las filas\n",
    "for row in rows:\n",
    "    # Seleccionamos solo con el tag a y clase notranslate\n",
    "    detail_cells = row.select('a.notranslate') \n",
    "    # Keep only the text in each of those cells\n",
    "    row_data = [cell.text for cell in detail_cells]\n",
    "    # Collect information\n",
    "    name = row_data[0]\n",
    "    #district = int(row_data[3])\n",
    "    #party = row_data[4]\n",
    "    #unicamente seleccionamos el nombre \n",
    "\n",
    "    # YOUR CODE HERE\n",
    "    # extraemos el href obteniendolo del elemento a de row\n",
    "    href = detail_cells[0]['href']\n",
    "    # creamos el path completo\n",
    "    full_path = \"http://www.ilga.gov/\" + href\n",
    "\n",
    "    # Guardamos en una tupla\n",
    "    senator = (name, full_path)\n",
    "    # Se inserta en la lista members\n",
    "    members.append(senator)"
   ]
  },
  {
   "cell_type": "code",
   "execution_count": 117,
   "metadata": {
    "tags": []
   },
   "outputs": [
    {
     "data": {
      "text/plain": [
       "[('Neil Anderson', 'http://www.ilga.gov//Senate/Members/Details/3312'),\n",
       " ('Neil Anderson', 'http://www.ilga.gov//Senate/Members/Details/3312'),\n",
       " ('Omar Aquino', 'http://www.ilga.gov//Senate/Members/Details/3316'),\n",
       " ('Omar Aquino', 'http://www.ilga.gov//Senate/Members/Details/3316'),\n",
       " ('Li Arellano, Jr.', 'http://www.ilga.gov//Senate/Members/Details/3383')]"
      ]
     },
     "execution_count": 117,
     "metadata": {},
     "output_type": "execute_result"
    }
   ],
   "source": [
    "# Descomentamos para probar\n",
    "members[:5]"
   ]
  },
  {
   "cell_type": "markdown",
   "metadata": {},
   "source": [
    "## 🥊  Challenge: Modularize Your Code\n",
    "\n",
    "Turn the code above into a function that accepts a URL, scrapes the URL for its senators, and returns a list of tuples containing information about each senator. "
   ]
  },
  {
   "cell_type": "code",
   "execution_count": 123,
   "metadata": {
    "tags": []
   },
   "outputs": [],
   "source": [
    "# YOUR CODE HERE\n",
    "# se define la funcion\n",
    "def get_members(url):\n",
    "    # Se hace una peticion get\n",
    "    req = requests.get(url)\n",
    "    # Se lee el contenido de la pagina\n",
    "    src = req.text\n",
    "    # Se le inserta en la 'sopa' con la libreria\n",
    "    soup = BeautifulSoup(src, \"lxml\")\n",
    "    # Se crea una lista vacia para guardar los miembros\n",
    "    members = []\n",
    "\n",
    "    # Returns every ‘tr tr tr’ css selector in the page\n",
    "    # como no funciona con filas se hace con div.member-overlay\n",
    "    rows = soup.select('div.member-overlay')\n",
    "    # Get rid of junk rows\n",
    "    # como no funciona con columnas se hace con la propiedad p o a\n",
    "    rows = [row for row in rows if row.select('a.notranslate')]\n",
    "\n",
    "    # Se hace un lazo for en todas las filas\n",
    "    for row in rows:\n",
    "        # Seleccionamos solo con el tag a y clase notranslate\n",
    "        detail_cells = row.select('a.notranslate') \n",
    "        # Keep only the text in each of those cells\n",
    "        row_data = [cell.text for cell in detail_cells]\n",
    "        # Collect information\n",
    "        name = row_data[0]\n",
    "        #district = int(row_data[3])\n",
    "        #party = row_data[4]\n",
    "        #unicamente seleccionamos el nombre \n",
    "\n",
    "        # YOUR CODE HERE\n",
    "        # extraemos el href obteniendolo del elemento a de row\n",
    "        href = detail_cells[0]['href']\n",
    "        # creamos el path completo\n",
    "        full_path = \"http://www.ilga.gov/\" + href\n",
    "\n",
    "        # Guardamos en una tupla\n",
    "        senator = (name, full_path)\n",
    "        # Se inserta en la lista members\n",
    "        members.append(senator)\n",
    "    \n",
    "    return [members]\n"
   ]
  },
  {
   "cell_type": "code",
   "execution_count": 125,
   "metadata": {
    "tags": []
   },
   "outputs": [
    {
     "name": "stdout",
     "output_type": "stream",
     "text": [
      "[[('Neil Anderson', 'http://www.ilga.gov//Senate/Members/Details/3312'), ('Neil Anderson', 'http://www.ilga.gov//Senate/Members/Details/3312'), ('Omar Aquino', 'http://www.ilga.gov//Senate/Members/Details/3316'), ('Omar Aquino', 'http://www.ilga.gov//Senate/Members/Details/3316'), ('Li Arellano, Jr.', 'http://www.ilga.gov//Senate/Members/Details/3383'), ('Li Arellano, Jr.', 'http://www.ilga.gov//Senate/Members/Details/3383'), ('Chris Balkema', 'http://www.ilga.gov//Senate/Members/Details/3413'), ('Chris Balkema', 'http://www.ilga.gov//Senate/Members/Details/3413'), ('Christopher Belt', 'http://www.ilga.gov//Senate/Members/Details/3337'), ('Christopher Belt', 'http://www.ilga.gov//Senate/Members/Details/3337'), ('Terri Bryant', 'http://www.ilga.gov//Senate/Members/Details/3386'), ('Terri Bryant', 'http://www.ilga.gov//Senate/Members/Details/3386'), ('Cristina Castro', 'http://www.ilga.gov//Senate/Members/Details/3317'), ('Cristina Castro', 'http://www.ilga.gov//Senate/Members/Details/3317'), ('Javier L. Cervantes', 'http://www.ilga.gov//Senate/Members/Details/3403'), ('Javier L. Cervantes', 'http://www.ilga.gov//Senate/Members/Details/3403'), ('Andrew S. Chesney', 'http://www.ilga.gov//Senate/Members/Details/3410'), ('Andrew S. Chesney', 'http://www.ilga.gov//Senate/Members/Details/3410'), ('Lakesia Collins', 'http://www.ilga.gov//Senate/Members/Details/3443'), ('Lakesia Collins', 'http://www.ilga.gov//Senate/Members/Details/3443'), ('Bill Cunningham', 'http://www.ilga.gov//Senate/Members/Details/3291'), ('Bill Cunningham', 'http://www.ilga.gov//Senate/Members/Details/3291'), ('John F. Curran', 'http://www.ilga.gov//Senate/Members/Details/3329'), ('John F. Curran', 'http://www.ilga.gov//Senate/Members/Details/3329'), ('Donald P. DeWitte', 'http://www.ilga.gov//Senate/Members/Details/3334'), ('Donald P. DeWitte', 'http://www.ilga.gov//Senate/Members/Details/3334'), ('Mary Edly-Allen', 'http://www.ilga.gov//Senate/Members/Details/3407'), ('Mary Edly-Allen', 'http://www.ilga.gov//Senate/Members/Details/3407'), ('Laura Ellman', 'http://www.ilga.gov//Senate/Members/Details/3339'), ('Laura Ellman', 'http://www.ilga.gov//Senate/Members/Details/3339'), ('Paul Faraci', 'http://www.ilga.gov//Senate/Members/Details/3412'), ('Paul Faraci', 'http://www.ilga.gov//Senate/Members/Details/3412'), ('Sara Feigenholtz', 'http://www.ilga.gov//Senate/Members/Details/3376'), ('Sara Feigenholtz', 'http://www.ilga.gov//Senate/Members/Details/3376'), ('Laura Fine', 'http://www.ilga.gov//Senate/Members/Details/3338'), ('Laura Fine', 'http://www.ilga.gov//Senate/Members/Details/3338'), ('Dale Fowler', 'http://www.ilga.gov//Senate/Members/Details/3318'), ('Dale Fowler', 'http://www.ilga.gov//Senate/Members/Details/3318'), ('Suzy Glowiak Hilton', 'http://www.ilga.gov//Senate/Members/Details/3341'), ('Suzy Glowiak Hilton', 'http://www.ilga.gov//Senate/Members/Details/3341'), ('Graciela Guzmán', 'http://www.ilga.gov//Senate/Members/Details/3442'), ('Graciela Guzmán', 'http://www.ilga.gov//Senate/Members/Details/3442'), ('Michael W. Halpin', 'http://www.ilga.gov//Senate/Members/Details/3408'), ('Michael W. Halpin', 'http://www.ilga.gov//Senate/Members/Details/3408'), ('Don Harmon', 'http://www.ilga.gov//Senate/Members/Details/3268'), ('Don Harmon', 'http://www.ilga.gov//Senate/Members/Details/3268'), ('Napoleon Harris, III', 'http://www.ilga.gov//Senate/Members/Details/3292'), ('Napoleon Harris, III', 'http://www.ilga.gov//Senate/Members/Details/3292'), ('Erica Harriss', 'http://www.ilga.gov//Senate/Members/Details/3411'), ('Erica Harriss', 'http://www.ilga.gov//Senate/Members/Details/3411'), ('Michael E. Hastings', 'http://www.ilga.gov//Senate/Members/Details/3293'), ('Michael E. Hastings', 'http://www.ilga.gov//Senate/Members/Details/3293'), ('Darby A. Hills', 'http://www.ilga.gov//Senate/Members/Details/3460'), ('Darby A. Hills', 'http://www.ilga.gov//Senate/Members/Details/3460'), ('Linda Holmes', 'http://www.ilga.gov//Senate/Members/Details/3270'), ('Linda Holmes', 'http://www.ilga.gov//Senate/Members/Details/3270'), ('Mattie Hunter', 'http://www.ilga.gov//Senate/Members/Details/3269'), ('Mattie Hunter', 'http://www.ilga.gov//Senate/Members/Details/3269'), ('Adriane Johnson', 'http://www.ilga.gov//Senate/Members/Details/3378'), ('Adriane Johnson', 'http://www.ilga.gov//Senate/Members/Details/3378'), ('Emil Jones, III', 'http://www.ilga.gov//Senate/Members/Details/3276'), ('Emil Jones, III', 'http://www.ilga.gov//Senate/Members/Details/3276'), ('Patrick J. Joyce', 'http://www.ilga.gov//Senate/Members/Details/3372'), ('Patrick J. Joyce', 'http://www.ilga.gov//Senate/Members/Details/3372'), ('David Koehler', 'http://www.ilga.gov//Senate/Members/Details/3271'), ('David Koehler', 'http://www.ilga.gov//Senate/Members/Details/3271'), ('Seth Lewis', 'http://www.ilga.gov//Senate/Members/Details/3406'), ('Seth Lewis', 'http://www.ilga.gov//Senate/Members/Details/3406'), ('Kimberly A. Lightford', 'http://www.ilga.gov//Senate/Members/Details/3264'), ('Kimberly A. Lightford', 'http://www.ilga.gov//Senate/Members/Details/3264'), ('Meg Loughran Cappel', 'http://www.ilga.gov//Senate/Members/Details/3380'), ('Meg Loughran Cappel', 'http://www.ilga.gov//Senate/Members/Details/3380'), ('Robert F. Martwick', 'http://www.ilga.gov//Senate/Members/Details/3369'), ('Robert F. Martwick', 'http://www.ilga.gov//Senate/Members/Details/3369'), ('Steve McClure', 'http://www.ilga.gov//Senate/Members/Details/3342'), ('Steve McClure', 'http://www.ilga.gov//Senate/Members/Details/3342'), ('Julie A. Morrison', 'http://www.ilga.gov//Senate/Members/Details/3294'), ('Julie A. Morrison', 'http://www.ilga.gov//Senate/Members/Details/3294'), ('Laura M. Murphy', 'http://www.ilga.gov//Senate/Members/Details/3313'), ('Laura M. Murphy', 'http://www.ilga.gov//Senate/Members/Details/3313'), ('Robert Peters', 'http://www.ilga.gov//Senate/Members/Details/3343'), ('Robert Peters', 'http://www.ilga.gov//Senate/Members/Details/3343'), ('Jason Plummer', 'http://www.ilga.gov//Senate/Members/Details/3344'), ('Jason Plummer', 'http://www.ilga.gov//Senate/Members/Details/3344'), ('Mike Porfirio', 'http://www.ilga.gov//Senate/Members/Details/3404'), ('Mike Porfirio', 'http://www.ilga.gov//Senate/Members/Details/3404'), ('Willie Preston', 'http://www.ilga.gov//Senate/Members/Details/3405'), ('Willie Preston', 'http://www.ilga.gov//Senate/Members/Details/3405'), ('Sue Rezin', 'http://www.ilga.gov//Senate/Members/Details/3281'), ('Sue Rezin', 'http://www.ilga.gov//Senate/Members/Details/3281'), ('Chapin Rose', 'http://www.ilga.gov//Senate/Members/Details/3295'), ('Chapin Rose', 'http://www.ilga.gov//Senate/Members/Details/3295'), ('Mike Simmons', 'http://www.ilga.gov//Senate/Members/Details/3398'), ('Mike Simmons', 'http://www.ilga.gov//Senate/Members/Details/3398'), ('Elgie R. Sims, Jr.', 'http://www.ilga.gov//Senate/Members/Details/3331'), ('Elgie R. Sims, Jr.', 'http://www.ilga.gov//Senate/Members/Details/3331'), ('Steve Stadelman', 'http://www.ilga.gov//Senate/Members/Details/3296'), ('Steve Stadelman', 'http://www.ilga.gov//Senate/Members/Details/3296'), ('Dave Syverson', 'http://www.ilga.gov//Senate/Members/Details/3265'), ('Dave Syverson', 'http://www.ilga.gov//Senate/Members/Details/3265'), ('Jil Tracy', 'http://www.ilga.gov//Senate/Members/Details/3319'), ('Jil Tracy', 'http://www.ilga.gov//Senate/Members/Details/3319'), ('Doris Turner', 'http://www.ilga.gov//Senate/Members/Details/3399'), ('Doris Turner', 'http://www.ilga.gov//Senate/Members/Details/3399'), ('Sally J. Turner', 'http://www.ilga.gov//Senate/Members/Details/3397'), ('Sally J. Turner', 'http://www.ilga.gov//Senate/Members/Details/3397'), ('Rachel Ventura', 'http://www.ilga.gov//Senate/Members/Details/3409'), ('Rachel Ventura', 'http://www.ilga.gov//Senate/Members/Details/3409'), ('Karina Villa', 'http://www.ilga.gov//Senate/Members/Details/3385'), ('Karina Villa', 'http://www.ilga.gov//Senate/Members/Details/3385'), ('Celina Villanueva', 'http://www.ilga.gov//Senate/Members/Details/3375'), ('Celina Villanueva', 'http://www.ilga.gov//Senate/Members/Details/3375'), ('Ram Villivalam', 'http://www.ilga.gov//Senate/Members/Details/3345'), ('Ram Villivalam', 'http://www.ilga.gov//Senate/Members/Details/3345'), ('Mark L. Walker', 'http://www.ilga.gov//Senate/Members/Details/3449'), ('Mark L. Walker', 'http://www.ilga.gov//Senate/Members/Details/3449'), ('Craig Wilcox', 'http://www.ilga.gov//Senate/Members/Details/3336'), ('Craig Wilcox', 'http://www.ilga.gov//Senate/Members/Details/3336'), ('Dan McConchie', 'http://www.ilga.gov//Senate/Members/Details/3315'), ('Dan McConchie', 'http://www.ilga.gov//Senate/Members/Details/3315')]]\n"
     ]
    },
    {
     "data": {
      "text/plain": [
       "120"
      ]
     },
     "execution_count": 125,
     "metadata": {},
     "output_type": "execute_result"
    }
   ],
   "source": [
    "# Test your code\n",
    "url = 'http://www.ilga.gov/senate/default.asp?GA=98'\n",
    "senate_members = get_members(url)\n",
    "print(senate_members)\n",
    "len(senate_members[0])"
   ]
  },
  {
   "cell_type": "markdown",
   "metadata": {},
   "source": [
    "## 🥊 Take-home Challenge: Writing a Scraper Function\n",
    "\n",
    "We want to scrape the webpages corresponding to bills sponsored by each bills.\n",
    "\n",
    "Write a function called `get_bills(url)` to parse a given bills URL. This will involve:\n",
    "\n",
    "  - requesting the URL using the <a href=\"http://docs.python-requests.org/en/latest/\">`requests`</a> library\n",
    "  - using the features of the `BeautifulSoup` library to find all of the `<td>` elements with the class `billlist`\n",
    "  - return a _list_ of tuples, each with:\n",
    "      - description (2nd column)\n",
    "      - chamber (S or H) (3rd column)\n",
    "      - the last action (4th column)\n",
    "      - the last action date (5th column)\n",
    "      \n",
    "This function has been partially completed. Fill in the rest."
   ]
  },
  {
   "cell_type": "code",
   "execution_count": null,
   "metadata": {
    "tags": []
   },
   "outputs": [],
   "source": [
    "def get_bills(url):\n",
    "    src = requests.get(url).text\n",
    "    soup = BeautifulSoup(src)\n",
    "    rows = soup.select('tr')\n",
    "    bills = []\n",
    "    # Se itera sobre las filas\n",
    "    for row in rows:\n",
    "        # Se escojen las celdas\n",
    "        cells1 = row.select('th')\n",
    "        cells2 = row.select('td')\n",
    "        # El nombre del senador no es una celda de la billist\n",
    "        if len(cells2) == 5:\n",
    "            row_text = [cell.text for cell in cells2]\n",
    "            # Se extrae la informacion\n",
    "            description = row_text[1]\n",
    "            chamber = row_text[2]\n",
    "            last_action = row_text[3]\n",
    "            last_action_date = row_text[4]\n",
    "            # Se consolida la informacion\n",
    "\n",
    "            # Se extrae el bill id\n",
    "            row_text1 = [cell.text for cell in cells1]\n",
    "            bill_id = row_text1[0]\n",
    "\n",
    "            bill = (bill_id, description, chamber, last_action, last_action_date)\n",
    "            bills.append(bill)\n",
    "    return bills"
   ]
  },
  {
   "cell_type": "code",
   "execution_count": null,
   "metadata": {
    "tags": []
   },
   "outputs": [
    {
     "data": {
      "text/plain": [
       "[('SB0023',\n",
       "  'AUDIT-IPA RENEWABLE',\n",
       "  'S',\n",
       "  'Referred to Assignments',\n",
       "  '1/13/2025'),\n",
       " ('SB0038',\n",
       "  'COUNTIES-WIND & SOLAR ENERGY',\n",
       "  'S',\n",
       "  'Referred to Assignments',\n",
       "  '1/13/2025'),\n",
       " ('SB0039',\n",
       "  'VETS-TINY HOMES-EV EXEMPTION',\n",
       "  'S',\n",
       "  'Public Act . . . . . . . . . 104-0341',\n",
       "  '8/15/2025'),\n",
       " ('SB0081',\n",
       "  'CRIM CD-AGG BAT-DCFS WORKER',\n",
       "  'S',\n",
       "  'Rule 3-9(a) / Re-referred to Assignments',\n",
       "  '3/21/2025'),\n",
       " ('SB0096',\n",
       "  'SCH CD-NONPUBLIC STUDENT-SPORT',\n",
       "  'S',\n",
       "  'Referred to Assignments',\n",
       "  '1/17/2025')]"
      ]
     },
     "execution_count": 152,
     "metadata": {},
     "output_type": "execute_result"
    }
   ],
   "source": [
    "## Se prueba la funcion\n",
    "test_url = senate_members[0][1][1]\n",
    "get_bills(test_url)[0:5]"
   ]
  },
  {
   "cell_type": "markdown",
   "metadata": {},
   "source": [
    "### Scrape All Bills\n",
    "\n",
    "Finally, create a dictionary `bills_dict` which maps a district number (the key) onto a list of bills (the value) coming from that district. You can do this by looping over all of the senate members in `members_dict` and calling `get_bills()` for each of their associated bill URLs.\n",
    "\n",
    "**NOTE:** please call the function `time.sleep(1)` for each iteration of the loop, so that we don't destroy the state's web site."
   ]
  },
  {
   "cell_type": "code",
   "execution_count": null,
   "metadata": {
    "tags": []
   },
   "outputs": [
    {
     "name": "stdout",
     "output_type": "stream",
     "text": [
      "[('Neil Anderson', 'http://www.ilga.gov//Senate/Members/Details/3312'), ('Neil Anderson', 'http://www.ilga.gov//Senate/Members/Details/3312'), ('Omar Aquino', 'http://www.ilga.gov//Senate/Members/Details/3316'), ('Omar Aquino', 'http://www.ilga.gov//Senate/Members/Details/3316'), ('Li Arellano, Jr.', 'http://www.ilga.gov//Senate/Members/Details/3383')]\n"
     ]
    }
   ],
   "source": [
    "# Se crea un diccionario para guardar los resultados\n",
    "bills_dict = {}\n",
    "print(senate_members[0][:5])\n",
    "for member in senate_members[0][:5]:\n",
    "    bills_dict[member[0]] = get_bills(member[1])\n",
    "    time.sleep(1) # Se inserta una pausa de 1 segundo entre cada solicitud para no sobrecargar el servidor"
   ]
  },
  {
   "cell_type": "code",
   "execution_count": null,
   "metadata": {
    "tags": []
   },
   "outputs": [],
   "source": [
    "len(bills_dict[52])"
   ]
  }
 ],
 "metadata": {
  "anaconda-cloud": {},
  "kernelspec": {
   "display_name": ".venv (3.13.7)",
   "language": "python",
   "name": "python3"
  },
  "language_info": {
   "codemirror_mode": {
    "name": "ipython",
    "version": 3
   },
   "file_extension": ".py",
   "mimetype": "text/x-python",
   "name": "python",
   "nbconvert_exporter": "python",
   "pygments_lexer": "ipython3",
   "version": "3.13.7"
  }
 },
 "nbformat": 4,
 "nbformat_minor": 4
}
